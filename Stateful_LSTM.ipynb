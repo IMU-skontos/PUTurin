{
 "cells": [
  {
   "cell_type": "code",
   "execution_count": null,
   "metadata": {
    "collapsed": true
   },
   "outputs": [],
   "source": [
    "import pandas as pd\n",
    "import numpy as np\n",
    "import matplotlib.pyplot as plt\n",
    "import seaborn as sns\n",
    "import tensorflow as tf\n",
    "from sklearn.preprocessing import MinMaxScaler\n",
    "from sklearn.model_selection import train_test_split\n",
    "from keras.models import Sequential\n",
    "from keras.layers import LSTM, GRU, Bidirectional, Dense, RepeatVector, TimeDistributed\n",
    "\n",
    "\n",
    "import warnings\n",
    "warnings.filterwarnings('ignore')"
   ]
  },
  {
   "cell_type": "code",
   "execution_count": null,
   "outputs": [],
   "source": [
    "df = pd.read_csv('TurinAHU.csv')\n",
    "df"
   ],
   "metadata": {
    "collapsed": false
   }
  },
  {
   "cell_type": "code",
   "execution_count": null,
   "outputs": [],
   "source": [
    "############################################################# STATEFUL LSTM #############################################################\n",
    "# Scale the data\n",
    "scaler = MinMaxScaler()\n",
    "data_scaled = scaler.fit_transform(df)\n",
    "\n",
    "# Prepare the data for training\n",
    "X = []\n",
    "y = []\n",
    "n_future = 2 # number of timesteps to predict\n",
    "n_past = 96 # number of timesteps to use as input\n",
    "batch_size = 64\n",
    "for i in range(n_past, len(data_scaled) - n_future + 1):\n",
    "    X.append(data_scaled[i - n_past:i, :])\n",
    "    y.append(data_scaled[i:i + n_future, :])\n",
    "\n",
    "X = np.array(X)\n",
    "y = np.array(y)\n",
    "\n",
    "# Split the data into training and testing sets\n",
    "split_index = int(len(X) * 0.7)\n",
    "X_train, X_test = X[:split_index], X[split_index:]\n",
    "y_train, y_test = y[:split_index], y[split_index:]\n",
    "\n",
    "# Define the model architecture\n",
    "model = Sequential()\n",
    "model.add(LSTM(64, batch_input_shape=(batch_size, X_train.shape[1], X_train.shape[2]), activation='tanh', stateful=True, return_sequences=True))\n",
    "model.add(LSTM(64, activation='tanh', dropout=0.5, stateful=True, return_sequences=True))\n",
    "model.add(LSTM(64, activation='tanh', dropout=0.5, stateful=True))\n",
    "model.add(RepeatVector(n_future))\n",
    "model.add(LSTM(64, activation='tanh', dropout=0.5, stateful=True, return_sequences=True))\n",
    "model.add(LSTM(64, activation='tanh', dropout=0.5, stateful=True, return_sequences=True))\n",
    "model.add(TimeDistributed(Dense(X_train.shape[2], activation='linear')))\n",
    "model.compile(optimizer='adam', loss='mse')\n",
    "\n",
    "# Train the model\n",
    "epochs = 500\n",
    "for i in range(epochs):\n",
    "    print('Epoch', i+1, '/', epochs)\n",
    "    history = model.fit(X_train, y_train, epochs=1, batch_size=batch_size, validation_split=0.2, shuffle=False)\n",
    "    model.reset_states()\n",
    "\n",
    "# Evaluate the model\n",
    "y_pred = model.predict(X_test, batch_size=batch_size)\n",
    "y_pred_rescaled = scaler.inverse_transform(y_pred.reshape(y_pred.shape[0]*y_pred.shape[1], y_pred.shape[2]))\n",
    "y_test_rescaled = scaler.inverse_transform(y_test.reshape(y_test.shape[0]*y_test.shape[1], y_test.shape[2]))\n",
    "\n",
    "mae = np.mean(np.abs(y_pred_rescaled - y_test_rescaled), axis=0)\n",
    "mape = np.mean(np.abs((y_pred_rescaled - y_test_rescaled) / y_test_rescaled), axis=0) * 100\n",
    "rmse = np.sqrt(np.mean(np.square(y_pred_rescaled - y_test_rescaled), axis=0))\n",
    "\n",
    "print('MAE:', mae)\n",
    "print('MAPE:', mape)\n",
    "print('RMSE:', rmse)"
   ],
   "metadata": {
    "collapsed": false
   }
  }
 ],
 "metadata": {
  "kernelspec": {
   "display_name": "Python 3",
   "language": "python",
   "name": "python3"
  },
  "language_info": {
   "codemirror_mode": {
    "name": "ipython",
    "version": 2
   },
   "file_extension": ".py",
   "mimetype": "text/x-python",
   "name": "python",
   "nbconvert_exporter": "python",
   "pygments_lexer": "ipython2",
   "version": "2.7.6"
  }
 },
 "nbformat": 4,
 "nbformat_minor": 0
}
