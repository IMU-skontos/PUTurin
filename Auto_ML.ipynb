{
 "cells": [
  {
   "cell_type": "code",
   "execution_count": 7,
   "metadata": {
    "collapsed": true
   },
   "outputs": [],
   "source": [
    "import pandas as pd\n",
    "import numpy as np\n",
    "import autokeras as ak\n",
    "\n",
    "from sklearn.preprocessing import MinMaxScaler\n",
    "from sklearn.model_selection import train_test_split\n",
    "\n",
    "\n",
    "\n",
    "import warnings\n",
    "warnings.filterwarnings('ignore')"
   ]
  },
  {
   "cell_type": "code",
   "execution_count": 8,
   "outputs": [
    {
     "data": {
      "text/plain": "        time  day  month  year   T_Supply   T_Return  SP_Return  T_Saturation  \\\n0      79200   14     10  2019  19.859999  20.469999       18.5     19.020000   \n1      80100   14     10  2019  19.855000  20.430000       18.5     19.020000   \n2      81000   14     10  2019  19.850000  20.410000       18.5     19.020000   \n3      81900   14     10  2019  19.840000  20.379999       18.5     19.080000   \n4      82800   14     10  2019  19.830000  20.350000       18.5     19.080000   \n...      ...  ...    ...   ...        ...        ...        ...           ...   \n33883  74700   14      4  2021  19.539999  20.004999       20.5     19.619999   \n33884  75600   14      4  2021  19.520000  19.949999       20.5     19.539999   \n33885  76500   14      4  2021  19.430000  19.955000       20.5     19.420000   \n33886  77400   14      4  2021  19.420000  19.920000       20.5     19.400000   \n33887  78300   14      4  2021  19.420000  19.900000       20.5     19.400000   \n\n       T_Outdoor  RH_Supply  RH_Return  RH_Outdoor  Energy  Power  \n0      20.299999  71.110001  58.919998        79.5     0.0    0.0  \n1      20.299999  71.320000  59.000000        82.0     0.0    0.0  \n2      20.299999  71.470001  59.109997        79.5     0.0    0.0  \n3      20.299999  71.439995  59.309998        77.0     0.0    0.0  \n4      20.299999  71.580002  59.559998        79.5     0.0    0.0  \n...          ...        ...        ...         ...     ...    ...  \n33883  14.700000  39.020000  27.930000        57.0     0.0    0.0  \n33884  13.700000  39.020000  28.090000        57.0     0.0    0.0  \n33885  13.700000  39.399998  27.930000        57.0     0.0    0.0  \n33886  13.700000  39.599998  28.039999        57.0     0.0    0.0  \n33887  13.700000  39.599998  28.150000        57.0     0.0    0.0  \n\n[33888 rows x 14 columns]",
      "text/html": "<div>\n<style scoped>\n    .dataframe tbody tr th:only-of-type {\n        vertical-align: middle;\n    }\n\n    .dataframe tbody tr th {\n        vertical-align: top;\n    }\n\n    .dataframe thead th {\n        text-align: right;\n    }\n</style>\n<table border=\"1\" class=\"dataframe\">\n  <thead>\n    <tr style=\"text-align: right;\">\n      <th></th>\n      <th>time</th>\n      <th>day</th>\n      <th>month</th>\n      <th>year</th>\n      <th>T_Supply</th>\n      <th>T_Return</th>\n      <th>SP_Return</th>\n      <th>T_Saturation</th>\n      <th>T_Outdoor</th>\n      <th>RH_Supply</th>\n      <th>RH_Return</th>\n      <th>RH_Outdoor</th>\n      <th>Energy</th>\n      <th>Power</th>\n    </tr>\n  </thead>\n  <tbody>\n    <tr>\n      <th>0</th>\n      <td>79200</td>\n      <td>14</td>\n      <td>10</td>\n      <td>2019</td>\n      <td>19.859999</td>\n      <td>20.469999</td>\n      <td>18.5</td>\n      <td>19.020000</td>\n      <td>20.299999</td>\n      <td>71.110001</td>\n      <td>58.919998</td>\n      <td>79.5</td>\n      <td>0.0</td>\n      <td>0.0</td>\n    </tr>\n    <tr>\n      <th>1</th>\n      <td>80100</td>\n      <td>14</td>\n      <td>10</td>\n      <td>2019</td>\n      <td>19.855000</td>\n      <td>20.430000</td>\n      <td>18.5</td>\n      <td>19.020000</td>\n      <td>20.299999</td>\n      <td>71.320000</td>\n      <td>59.000000</td>\n      <td>82.0</td>\n      <td>0.0</td>\n      <td>0.0</td>\n    </tr>\n    <tr>\n      <th>2</th>\n      <td>81000</td>\n      <td>14</td>\n      <td>10</td>\n      <td>2019</td>\n      <td>19.850000</td>\n      <td>20.410000</td>\n      <td>18.5</td>\n      <td>19.020000</td>\n      <td>20.299999</td>\n      <td>71.470001</td>\n      <td>59.109997</td>\n      <td>79.5</td>\n      <td>0.0</td>\n      <td>0.0</td>\n    </tr>\n    <tr>\n      <th>3</th>\n      <td>81900</td>\n      <td>14</td>\n      <td>10</td>\n      <td>2019</td>\n      <td>19.840000</td>\n      <td>20.379999</td>\n      <td>18.5</td>\n      <td>19.080000</td>\n      <td>20.299999</td>\n      <td>71.439995</td>\n      <td>59.309998</td>\n      <td>77.0</td>\n      <td>0.0</td>\n      <td>0.0</td>\n    </tr>\n    <tr>\n      <th>4</th>\n      <td>82800</td>\n      <td>14</td>\n      <td>10</td>\n      <td>2019</td>\n      <td>19.830000</td>\n      <td>20.350000</td>\n      <td>18.5</td>\n      <td>19.080000</td>\n      <td>20.299999</td>\n      <td>71.580002</td>\n      <td>59.559998</td>\n      <td>79.5</td>\n      <td>0.0</td>\n      <td>0.0</td>\n    </tr>\n    <tr>\n      <th>...</th>\n      <td>...</td>\n      <td>...</td>\n      <td>...</td>\n      <td>...</td>\n      <td>...</td>\n      <td>...</td>\n      <td>...</td>\n      <td>...</td>\n      <td>...</td>\n      <td>...</td>\n      <td>...</td>\n      <td>...</td>\n      <td>...</td>\n      <td>...</td>\n    </tr>\n    <tr>\n      <th>33883</th>\n      <td>74700</td>\n      <td>14</td>\n      <td>4</td>\n      <td>2021</td>\n      <td>19.539999</td>\n      <td>20.004999</td>\n      <td>20.5</td>\n      <td>19.619999</td>\n      <td>14.700000</td>\n      <td>39.020000</td>\n      <td>27.930000</td>\n      <td>57.0</td>\n      <td>0.0</td>\n      <td>0.0</td>\n    </tr>\n    <tr>\n      <th>33884</th>\n      <td>75600</td>\n      <td>14</td>\n      <td>4</td>\n      <td>2021</td>\n      <td>19.520000</td>\n      <td>19.949999</td>\n      <td>20.5</td>\n      <td>19.539999</td>\n      <td>13.700000</td>\n      <td>39.020000</td>\n      <td>28.090000</td>\n      <td>57.0</td>\n      <td>0.0</td>\n      <td>0.0</td>\n    </tr>\n    <tr>\n      <th>33885</th>\n      <td>76500</td>\n      <td>14</td>\n      <td>4</td>\n      <td>2021</td>\n      <td>19.430000</td>\n      <td>19.955000</td>\n      <td>20.5</td>\n      <td>19.420000</td>\n      <td>13.700000</td>\n      <td>39.399998</td>\n      <td>27.930000</td>\n      <td>57.0</td>\n      <td>0.0</td>\n      <td>0.0</td>\n    </tr>\n    <tr>\n      <th>33886</th>\n      <td>77400</td>\n      <td>14</td>\n      <td>4</td>\n      <td>2021</td>\n      <td>19.420000</td>\n      <td>19.920000</td>\n      <td>20.5</td>\n      <td>19.400000</td>\n      <td>13.700000</td>\n      <td>39.599998</td>\n      <td>28.039999</td>\n      <td>57.0</td>\n      <td>0.0</td>\n      <td>0.0</td>\n    </tr>\n    <tr>\n      <th>33887</th>\n      <td>78300</td>\n      <td>14</td>\n      <td>4</td>\n      <td>2021</td>\n      <td>19.420000</td>\n      <td>19.900000</td>\n      <td>20.5</td>\n      <td>19.400000</td>\n      <td>13.700000</td>\n      <td>39.599998</td>\n      <td>28.150000</td>\n      <td>57.0</td>\n      <td>0.0</td>\n      <td>0.0</td>\n    </tr>\n  </tbody>\n</table>\n<p>33888 rows × 14 columns</p>\n</div>"
     },
     "execution_count": 8,
     "metadata": {},
     "output_type": "execute_result"
    }
   ],
   "source": [
    "df = pd.read_csv('TurinAHU.csv')\n",
    "df[\"Timestamp\"] = pd.to_datetime(df[\"Timestamp\"])\n",
    "\n",
    "# Extracting day, month, year, and time into separate columns\n",
    "df[\"day\"] = df[\"Timestamp\"].dt.day\n",
    "df[\"month\"] = df[\"Timestamp\"].dt.month\n",
    "df[\"year\"] = df[\"Timestamp\"].dt.year\n",
    "df[\"time\"] = df[\"Timestamp\"].dt.hour * 3600 + df[\"Timestamp\"].dt.minute * 60 + df[\"Timestamp\"].dt.second\n",
    "\n",
    "# Dropping the \"timestamp\" column\n",
    "df = df.drop(\"Timestamp\", axis=1)\n",
    "\n",
    "# Reordering the columns\n",
    "cols = df.columns.tolist()\n",
    "cols = [\"time\", \"day\", \"month\", \"year\"] + cols[:-4]\n",
    "df = df[cols]\n",
    "df"
   ],
   "metadata": {
    "collapsed": false
   }
  },
  {
   "cell_type": "code",
   "execution_count": 9,
   "outputs": [
    {
     "ename": "NameError",
     "evalue": "name 'ak' is not defined",
     "output_type": "error",
     "traceback": [
      "\u001B[1;31m---------------------------------------------------------------------------\u001B[0m",
      "\u001B[1;31mNameError\u001B[0m                                 Traceback (most recent call last)",
      "Cell \u001B[1;32mIn[9], line 21\u001B[0m\n\u001B[0;32m     18\u001B[0m X_train, X_test, y_train, y_test \u001B[38;5;241m=\u001B[39m train_test_split(X, y, test_size\u001B[38;5;241m=\u001B[39m\u001B[38;5;241m0.3\u001B[39m, random_state\u001B[38;5;241m=\u001B[39m\u001B[38;5;241m42\u001B[39m)\n\u001B[0;32m     20\u001B[0m \u001B[38;5;66;03m# Initialize the AutoML model\u001B[39;00m\n\u001B[1;32m---> 21\u001B[0m model \u001B[38;5;241m=\u001B[39m \u001B[43mak\u001B[49m\u001B[38;5;241m.\u001B[39mStructuredDataRegressor(\n\u001B[0;32m     22\u001B[0m     column_names\u001B[38;5;241m=\u001B[39m[\u001B[38;5;124mf\u001B[39m\u001B[38;5;124m'\u001B[39m\u001B[38;5;124mfeature_\u001B[39m\u001B[38;5;132;01m{\u001B[39;00mi\u001B[38;5;241m+\u001B[39m\u001B[38;5;241m1\u001B[39m\u001B[38;5;132;01m}\u001B[39;00m\u001B[38;5;124m'\u001B[39m \u001B[38;5;28;01mfor\u001B[39;00m i \u001B[38;5;129;01min\u001B[39;00m \u001B[38;5;28mrange\u001B[39m(X_train\u001B[38;5;241m.\u001B[39mshape[\u001B[38;5;241m2\u001B[39m])],\n\u001B[0;32m     23\u001B[0m     output_dim\u001B[38;5;241m=\u001B[39my_train\u001B[38;5;241m.\u001B[39mshape[\u001B[38;5;241m1\u001B[39m],\n\u001B[0;32m     24\u001B[0m     max_trials\u001B[38;5;241m=\u001B[39m\u001B[38;5;241m10\u001B[39m,\n\u001B[0;32m     25\u001B[0m     directory\u001B[38;5;241m=\u001B[39m\u001B[38;5;124m'\u001B[39m\u001B[38;5;124mautokeras\u001B[39m\u001B[38;5;124m'\u001B[39m,\n\u001B[0;32m     26\u001B[0m )\n\u001B[0;32m     28\u001B[0m \u001B[38;5;66;03m# Fit the AutoML model to the training data\u001B[39;00m\n\u001B[0;32m     29\u001B[0m model\u001B[38;5;241m.\u001B[39mfit(X_train, y_train, epochs\u001B[38;5;241m=\u001B[39m\u001B[38;5;241m20\u001B[39m, batch_size\u001B[38;5;241m=\u001B[39m\u001B[38;5;241m48\u001B[39m, validation_split\u001B[38;5;241m=\u001B[39m\u001B[38;5;241m0.2\u001B[39m)\n",
      "\u001B[1;31mNameError\u001B[0m: name 'ak' is not defined"
     ]
    }
   ],
   "source": [
    "# Scale the data\n",
    "scaler = MinMaxScaler()\n",
    "data_scaled = scaler.fit_transform(df)\n",
    "\n",
    "# Prepare the data for training\n",
    "X = []\n",
    "y = []\n",
    "n_future = 2  # number of timesteps to predict\n",
    "n_past = 96  # number of timesteps to use as input\n",
    "for i in range(n_past, len(data_scaled) - n_future + 1):\n",
    "    X.append(data_scaled[i - n_past:i, :])\n",
    "    y.append(data_scaled[i:i + n_future, :])\n",
    "\n",
    "X = np.array(X)\n",
    "y = np.array(y)\n",
    "\n",
    "# Split the data into training and testing sets\n",
    "X_train, X_test, y_train, y_test = train_test_split(X, y, test_size=0.3, random_state=42)\n",
    "\n",
    "# Initialize the AutoML model\n",
    "model = ak.StructuredDataRegressor(\n",
    "    column_names=[f'feature_{i+1}' for i in range(X_train.shape[2])],\n",
    "    output_dim=y_train.shape[1],\n",
    "    max_trials=10,\n",
    "    directory='autokeras',\n",
    ")\n",
    "\n",
    "# Fit the AutoML model to the training data\n",
    "model.fit(X_train, y_train, epochs=20, batch_size=48, validation_split=0.2)\n",
    "\n",
    "# Evaluate the AutoML model\n",
    "mae, mape, rmse = model.evaluate(X_test, y_test)\n",
    "\n",
    "print('MAE:', mae)\n",
    "print('MAPE:', mape)\n",
    "print('RMSE:', rmse)"
   ],
   "metadata": {
    "collapsed": false
   }
  }
 ],
 "metadata": {
  "kernelspec": {
   "display_name": "Python 3",
   "language": "python",
   "name": "python3"
  },
  "language_info": {
   "codemirror_mode": {
    "name": "ipython",
    "version": 2
   },
   "file_extension": ".py",
   "mimetype": "text/x-python",
   "name": "python",
   "nbconvert_exporter": "python",
   "pygments_lexer": "ipython2",
   "version": "2.7.6"
  }
 },
 "nbformat": 4,
 "nbformat_minor": 0
}
